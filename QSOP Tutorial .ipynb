{
 "cells": [
  {
   "cell_type": "markdown",
   "id": "7079ded1",
   "metadata": {},
   "source": [
    "# Tutorial for utilizing QSOP codebase \n",
    "This notebook will demonstrate how to use the classes and functions in the QSOP directory. Specifically, how to:  \n",
    "1. Retrieve included .g6 files of varying order graphs and convert them to networkx graph structures \n",
    "\n",
    "2. Specify which graph problem is to be analyzed in a given run\n",
    "\n",
    "3. Convert the graph structure to a Boolean instance of the desired graph problem \n",
    "\n",
    "4. Convert the Boolean instance into an equal but reconstructed Exclusive Sum of Products (ESOP) form.\n",
    "\n",
    "5. Construct a quantum oracle from the ESOP expansion. \n",
    "\n",
    "As well as some other pertinent details, such as: \n",
    "- The structure of the codebase \n",
    "- Necessary machine configuration for use \n",
    "- Current status of operation/improvement\n"
   ]
  },
  {
   "cell_type": "markdown",
   "id": "a75c632a",
   "metadata": {},
   "source": [
    "## The Structure of the Codebase\n",
    "The directory has several important files and folders, which I will detail here: \n",
    "\n",
    "**FOLDERS**: \n",
    "\n",
    "*<u>xgraphFiles</u>*: This folder contains 7 .g6 files, named \"graph(n)c.g6\", where (n) is the order of the graphs in that file ranging from 3 to 9. Each line in the file represents a unique connected graph of (n) nodes. \n",
    "For example, graph3c.g6 has two lines for the only two graphs of 3 nodes, while graph6c.g6 has information for 112, 6-node graphs. \n",
    "\n",
    "*<u>ESOPsimple</u>*: This folder contains the dependencies and necessary overhead for running the easy.c++ code that is detailed later in this notebook. \n",
    "Most imortantly, this folder contains *esopTest.cpp* and *between.txt*, which are the key files in using the easy.c++ to convert Boolean Instances to ESOPs. \n",
    "\n",
    "**FILES**: \n",
    "\n",
    "*<u>oracle.py</u>*: This is arguably the most important file for the first half of the pipeline. It contains *GraphGenerator* and *BooleanInstance* classes which will be detailed on later. \n",
    "\n",
    "*<u>sympy_esop_to_qcirc_t.py</u>*: Contains class *ESOPQuantumCircuit* for converting the ESOPs into quantum oracles. \n",
    "\n",
    "*<u>oracle_and_gm_qaoa.py</u>*: Contains classes *StatePrep* and *GMQAOA* for constructing full quantum circuits for GM-QAOA around the oracles produced from the previous class, as well as for running them. \n",
    "\n",
    "*<u>full_pipeline.py</u>* : a file that implements the whole pipeline from graph to Quantum Circuit, and is set up for analysis of *entire groups* of k-node graphs. \n"
   ]
  },
  {
   "cell_type": "markdown",
   "id": "5ea5d65b",
   "metadata": {},
   "source": [
    "## NECESSARY NON-NATIVE PYTHON AND C++ LIBRARIES: \n",
    "\n",
    "PYTHON:  \n",
    "- sympy \n",
    "- networkx\n",
    "- matplotlib\n",
    "- qiskit \n",
    "\n",
    "C++: \n",
    "- g++ compiler with QSOP directory in PATH for compilation\n",
    "- native g++ library files (vector, fstream...) \n",
    "\n",
    "\n"
   ]
  },
  {
   "cell_type": "markdown",
   "id": "4aa69165",
   "metadata": {},
   "source": [
    "# TUTORIAL ON USING QSOP "
   ]
  },
  {
   "cell_type": "markdown",
   "id": "3416bbaa",
   "metadata": {},
   "source": [
    "Firstly, we need to grab a graph (or many graphs) from the .g6 files in the directory. \n",
    "We can do this by creating a *GraphGenerator* class instance and using the **createKgraphs(int k)** function to generate an array of networkx graphs of order \"k\".\n",
    "GraphGenerator() has no contructor arguments."
   ]
  },
  {
   "cell_type": "code",
   "execution_count": 1,
   "id": "7a82e402",
   "metadata": {},
   "outputs": [
    {
     "name": "stdout",
     "output_type": "stream",
     "text": [
      "6\n"
     ]
    }
   ],
   "source": [
    "from oracle import GraphGenerator, BooleanInstance\n",
    "\n",
    "#desired # of nodes \n",
    "k = 4\n",
    "\n",
    "graphGetter = GraphGenerator()\n",
    "graphArray = graphGetter.createKgraphs(k) \n",
    "\n",
    "print(len(graphArray))\n",
    "#notice that there are 6 graphs of 4 nodes, and this array has each of them "
   ]
  },
  {
   "cell_type": "markdown",
   "id": "70ac3cea",
   "metadata": {},
   "source": [
    "We can choose a specific graph from the graphArray and print it using:"
   ]
  },
  {
   "cell_type": "code",
   "execution_count": 14,
   "id": "341f386a",
   "metadata": {},
   "outputs": [
    {
     "data": {
      "image/png": "[encoded data removed]",
      "text/plain": [
       "<Figure size 640x480 with 1 Axes>"
      ]
     },
     "metadata": {},
     "output_type": "display_data"
    }
   ],
   "source": [
    "#choose which graph of k nodes to assign to instance\n",
    "\n",
    "graphNumber = 2  #[0,len(graphArray)]\n",
    "chosenGraph = graphGetter.chooseGraph(graphNumber)\n",
    "graphGetter.printGraph()\n",
    "\n",
    "#note that to print a specific graph you must assign it to the generator first "
   ]
  },
  {
   "cell_type": "markdown",
   "id": "2363369c",
   "metadata": {},
   "source": [
    "Now, we must create a Boolean instance of the graph for the specific problem we wish to analyze. \n",
    "This is done by understanding that: \n",
    "- *For set-covering graph problems, like Minimum Vertex Cover, Maximum Independent Set, and Max-K Colorable, we can specify a node inclusion and exclusion via boolean bitstring representation.*\n",
    "\n",
    "For instance, consider the graph above on four verticies for the Minimum Vertex Cover problem. We can assign each vertex a boolean variable and specify it's **exclusion** from the set-cover via negation. We can then define a function to accept a bitstring representation and give a TRUE or FALSE. So for the graph above, we can specify $x_0$,$x_1$,$x_2$,$x_3$ as the boolean variables, with $\\neg{x_n}$ signifying exclusion (negation) from the set. So a cover here would be: $\\neg{x_0} \\land \\neg{x_1} \\land x_2 \\land x_3$. Another one would be: $x_0 \\land \\neg{x_1} \\land \\neg{x_2} \\land x_3$, or even: $x_0 \\land x_1 \\land x_2 \\land x_3$(although it is not optimal, it is a cover)."
   ]
  },
  {
   "cell_type": "markdown",
   "id": "bd4acead",
   "metadata": {},
   "source": [
    "We know that the Boolean instances for a graph G are: \n",
    "- Vertex_Cover($x_1,x_2,...,x_k$) = $\\bigwedge_{x_i,x_j \\in E}{(x_i \\lor x_j)}$\n",
    "- Independent_Set($x_1,x_2,...,x_k$) = $\\bigwedge_{x_i,x_j \\in E}{\\neg(x_i \\land x_j)}$ = $\\bigwedge_{x_i,x_j \\in E}{\\neg{x_i}  \\lor \\neg{x_j}}$\n",
    "And these expressions will only be true if the given labeling is a true Vertex Cover or Independent Set, respectively."
   ]
  },
  {
   "cell_type": "markdown",
   "id": "737204ec",
   "metadata": {},
   "source": [
    "*__oracle.py__* has a class called *BooleanInstance* which will take in a networkx graph, a problem (\"MIS\", \"MVC\", \"MKC\") and produce a Sympy expression for it using these formulas.\n",
    ".getTT() will return the minterms of where this expression is true.\n",
    "\n",
    "We can then use the .getRM(string *polarity*) and  .produceExpression(Sympy object *expression*) function to produce our final ESOP using the easy.c++ library and *__esopTest.cpp__*\n",
    "\n",
    "NOTE: the *polarity* argument may be \"positive\" or \"mixed\", which just determines whether to have negations in the ESOP. Mixed is usually shorter. \n"
   ]
  },
  {
   "cell_type": "code",
   "execution_count": 15,
   "id": "502ea05c",
   "metadata": {},
   "outputs": [
    {
     "name": "stdout",
     "output_type": "stream",
     "text": [
      "['0011', '0111', '1001', '1011', '1101', '1110', '1111']\n",
      "\n",
      "(a & d) ^ (c & ~a) ^ (b & c & ~d) ^ (c & ~a & ~b & ~d)\n"
     ]
    }
   ],
   "source": [
    "misExpression = BooleanInstance(\"MVC\", chosenGraph)\n",
    "minterms = misExpression.getTT() #returns minterms and adds TT attribute to instance\n",
    "print(minterms)\n",
    "\n",
    "RM = misExpression.getRM(\"mixed\")\n",
    "ESOP = misExpression.produceExpression(RM)\n",
    "print(ESOP)"
   ]
  },
  {
   "cell_type": "markdown",
   "id": "7b078035",
   "metadata": {},
   "source": [
    "And there we have it... but are these really accurate though? Let's find out.\n",
    "What I can do is take the minterms as Boolean Strings and run them through the ESOP to see if they produce a TRUE also for each. "
   ]
  },
  {
   "cell_type": "code",
   "execution_count": 16,
   "id": "0002b340",
   "metadata": {},
   "outputs": [
    {
     "name": "stdout",
     "output_type": "stream",
     "text": [
      "1\n",
      "1\n",
      "1\n",
      "1\n",
      "1\n",
      "1\n",
      "1\n"
     ]
    }
   ],
   "source": [
    "ESOPconv = str(ESOP)                                            #not currently working... gotta fix this\n",
    "for minterm in minterms:\n",
    "    conv = {'a':int(minterm[0]), \n",
    "            'b':int(minterm[1]), \n",
    "            'c':int(minterm[2]), \n",
    "            'd':int(minterm[3])} #adjust for different len nodes.. lazy mode \n",
    "    \n",
    "    toBeXored = []\n",
    "    toBeAnded = []\n",
    "    i = 0\n",
    "    while i < len(ESOPconv):\n",
    "        if ESOPconv[i] == '(':\n",
    "            i+=1\n",
    "            while ESOPconv[i] != ')':\n",
    "                if (ESOPconv[i].isalpha()):\n",
    "                    toBeAnded.append(conv[ESOPconv[i]])\n",
    "                    i+=1\n",
    "                elif ESOPconv[i] == '~':\n",
    "                    toBeAnded.append(((conv[ESOPconv[i + 1]]) + 1) % 2)\n",
    "                    i+=2\n",
    "                else: \n",
    "                    i+=1\n",
    "            j = 1\n",
    "            first = toBeAnded[0]\n",
    "            while j < len(toBeAnded):\n",
    "                first &= toBeAnded[j]\n",
    "                j+=1\n",
    "            toBeXored.append(first)\n",
    "            toBeAnded = []\n",
    "        else:\n",
    "            i+=1\n",
    "    l = 1\n",
    "    firstX = toBeXored[0]\n",
    "    while l < len(toBeXored):\n",
    "        firstX ^= toBeXored[l]\n",
    "        l+=1\n",
    "    print(firstX)"
   ]
  },
  {
   "cell_type": "code",
   "execution_count": null,
   "id": "cb39db62",
   "metadata": {},
   "outputs": [],
   "source": []
  },
  {
   "cell_type": "code",
   "execution_count": null,
   "id": "5cf3474c",
   "metadata": {},
   "outputs": [],
   "source": []
  }
 ],
 "metadata": {
  "kernelspec": {
   "display_name": "Python 3 (ipykernel)",
   "language": "python",
   "name": "python3"
  },
  "language_info": {
   "codemirror_mode": {
    "name": "ipython",
    "version": 3
   },
   "file_extension": ".py",
   "mimetype": "text/x-python",
   "name": "python",
   "nbconvert_exporter": "python",
   "pygments_lexer": "ipython3",
   "version": "3.12.3"
  }
 },
 "nbformat": 4,
 "nbformat_minor": 5
}
