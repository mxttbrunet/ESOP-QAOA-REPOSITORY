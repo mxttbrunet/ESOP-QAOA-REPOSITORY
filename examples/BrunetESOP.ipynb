{
 "cells": [
  {
   "cell_type": "code",
   "execution_count": 1,
   "metadata": {},
   "outputs": [],
   "source": [
    "import sympy as sp\n",
    "from sympy.abc import a,b,c,d,e,f,g,h,i,j,k\n",
    "##brunet,matt\n",
    "##take in symbol table, and hopefully do some ESOP junk..."
   ]
  },
  {
   "cell_type": "code",
   "execution_count": 2,
   "metadata": {},
   "outputs": [
    {
     "name": "stdin",
     "output_type": "stream",
     "text": [
      "How many vars?:  3\n",
      "How many feasible states?:  3\n"
     ]
    }
   ],
   "source": [
    "n = int(input(\"How many vars?: \"))\n",
    "symbolsAvail = [a,b,c,d,e,f,g,h,i,j,k]\n",
    "symbols = []\n",
    "minterms = []\n",
    "for i in range(0,n):\n",
    "    symbols.append(symbolsAvail[i])\n",
    "feas = int(input(\"How many feasible states?: \") )  "
   ]
  },
  {
   "cell_type": "code",
   "execution_count": 3,
   "metadata": {},
   "outputs": [
    {
     "name": "stdout",
     "output_type": "stream",
     "text": [
      "ENTER EACH FEASIBLE BINARY STATE:\n",
      "\n",
      "State 0 :\n"
     ]
    },
    {
     "name": "stdin",
     "output_type": "stream",
     "text": [
      " 100\n"
     ]
    },
    {
     "name": "stdout",
     "output_type": "stream",
     "text": [
      "State 1 :\n"
     ]
    },
    {
     "name": "stdin",
     "output_type": "stream",
     "text": [
      " 010\n"
     ]
    },
    {
     "name": "stdout",
     "output_type": "stream",
     "text": [
      "State 2 :\n"
     ]
    },
    {
     "name": "stdin",
     "output_type": "stream",
     "text": [
      " 001\n"
     ]
    }
   ],
   "source": [
    "print(\"ENTER EACH FEASIBLE BINARY STATE:\\n\")         ##get minterms\n",
    "for i in range(feas):\n",
    "    print(\"State\", i, \":\") \n",
    "    state = input()\n",
    "    tempState = []\n",
    "    for j in range(n):\n",
    "        if (state[j] == \"1\"):   \n",
    "            tempState.append(1)     #encode truth table\n",
    "        else:\n",
    "            tempState.append(0)\n",
    "    minterms.append(tempState)\n",
    "    #print(tempState)\n",
    "#print(minterms)"
   ]
  },
  {
   "cell_type": "code",
   "execution_count": 4,
   "metadata": {},
   "outputs": [
    {
     "name": "stdout",
     "output_type": "stream",
     "text": [
      "****SOP FORM:   (a & ~b & ~c) | (b & ~a & ~c) | (c & ~a & ~b)  ****\n"
     ]
    },
    {
     "data": {
      "text/latex": [
       "$\\displaystyle \\left(a \\wedge \\neg b \\wedge \\neg c\\right) \\vee \\left(b \\wedge \\neg a \\wedge \\neg c\\right) \\vee \\left(c \\wedge \\neg a \\wedge \\neg b\\right)$"
      ],
      "text/plain": [
       "(a & ~b & ~c) | (b & ~a & ~c) | (c & ~a & ~b)"
      ]
     },
     "execution_count": 4,
     "metadata": {},
     "output_type": "execute_result"
    }
   ],
   "source": [
    "sop = sp.SOPform(symbols, minterms)\n",
    "\n",
    "print(\"****SOP FORM:  \", sop, \" ****\")         ##sop form\n",
    "sop"
   ]
  },
  {
   "cell_type": "code",
   "execution_count": 5,
   "metadata": {},
   "outputs": [
    {
     "name": "stdout",
     "output_type": "stream",
     "text": [
      "****ESOP FORM: a ^ b ^ c ^ (a & b & c) ****\n"
     ]
    },
    {
     "data": {
      "text/latex": [
       "$\\displaystyle a \\veebar b \\veebar c \\veebar \\left(a \\wedge b \\wedge c\\right)$"
      ],
      "text/plain": [
       "a ^ b ^ c ^ (a & b & c)"
      ]
     },
     "execution_count": 5,
     "metadata": {},
     "output_type": "execute_result"
    }
   ],
   "source": [
    "esop = sp.logic.boolalg.to_anf(sop, True) #converts to ANF form, which is of exclusive products\n",
    "\n",
    "print(\"****ESOP FORM:\", esop, \"****\") \n",
    "esop"
   ]
  },
  {
   "cell_type": "code",
   "execution_count": null,
   "metadata": {},
   "outputs": [],
   "source": []
  }
 ],
 "metadata": {
  "kernelspec": {
   "display_name": "Python 3 (ipykernel)",
   "language": "python",
   "name": "python3"
  },
  "language_info": {
   "codemirror_mode": {
    "name": "ipython",
    "version": 3
   },
   "file_extension": ".py",
   "mimetype": "text/x-python",
   "name": "python",
   "nbconvert_exporter": "python",
   "pygments_lexer": "ipython3",
   "version": "3.10.12"
  }
 },
 "nbformat": 4,
 "nbformat_minor": 4
}
